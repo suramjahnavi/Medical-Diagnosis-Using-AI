{
 "cells": [
  {
   "cell_type": "markdown",
   "metadata": {
    "colab_type": "text",
    "id": "view-in-github"
   },
   "source": [
    "<a href=\"https://colab.research.google.com/github/Ahsanbeg/Multiple-Disease-Prediction/blob/main/Thyroid.ipynb\" target=\"_parent\"><img src=\"https://colab.research.google.com/assets/colab-badge.svg\" alt=\"Open In Colab\"/></a>"
   ]
  },
  {
   "cell_type": "code",
   "execution_count": null,
   "metadata": {
    "colab": {
     "base_uri": "https://localhost:8080/"
    },
    "id": "MeVtdYwK7tyU",
    "outputId": "54250cb0-23d1-42fc-cd17-3c6867c0e375"
   },
   "outputs": [],
   "source": [
    "!pip install scikit-learn==1.0.2"
   ]
  },
  {
   "cell_type": "code",
   "execution_count": null,
   "metadata": {
    "id": "o-YXIN4gH_Ux"
   },
   "outputs": [],
   "source": [
    "import numpy as np\n",
    "import pandas as pd\n",
    "import matplotlib.pyplot as plt\n",
    "import statsmodels.api as sm\n",
    "import seaborn as sns\n",
    "from sklearn.metrics import accuracy_score\n",
    "from sklearn.linear_model import LogisticRegression\n",
    "from sklearn.model_selection import train_test_split\n",
    "\n",
    "%matplotlib inline\n",
    "sns.set(rc={'figure.figsize': [20, 20]}, font_scale=1.4)"
   ]
  },
  {
   "cell_type": "code",
   "execution_count": null,
   "metadata": {
    "colab": {
     "base_uri": "https://localhost:8080/",
     "height": 522
    },
    "id": "M7HickjrIoUN",
    "outputId": "ecab9155-5119-4cc4-d643-46ecf30a25be"
   },
   "outputs": [],
   "source": [
    "df = pd.read_csv(\"C:/Users/suram_ac9ahha/Downloads/medical_diagnosis/Datasets/hypothyroid.csv\")\n",
    "df"
   ]
  },
  {
   "cell_type": "code",
   "execution_count": null,
   "metadata": {
    "colab": {
     "base_uri": "https://localhost:8080/",
     "height": 334
    },
    "id": "bBrWQC8AIxE7",
    "outputId": "ba34c4f5-df57-4b1c-a236-074f3752e734"
   },
   "outputs": [],
   "source": [
    "df.head()\n"
   ]
  },
  {
   "cell_type": "code",
   "execution_count": null,
   "metadata": {
    "colab": {
     "base_uri": "https://localhost:8080/",
     "height": 990
    },
    "id": "d-qvbvauI0u0",
    "outputId": "f8414405-40bf-4008-df19-0ffa42dfa7af"
   },
   "outputs": [],
   "source": [
    "df.describe().T\n"
   ]
  },
  {
   "cell_type": "code",
   "execution_count": null,
   "metadata": {
    "colab": {
     "base_uri": "https://localhost:8080/"
    },
    "id": "l5sXTua8I3GY",
    "outputId": "98cdbb4d-7a59-495f-9bea-6f8c40fe521d"
   },
   "outputs": [],
   "source": [
    "df.info()\n",
    "\n"
   ]
  },
  {
   "cell_type": "code",
   "execution_count": null,
   "metadata": {
    "colab": {
     "base_uri": "https://localhost:8080/",
     "height": 522
    },
    "id": "TjQlM_MAI7GJ",
    "outputId": "81ad0b60-2876-457a-b9e3-5fef12f2754f"
   },
   "outputs": [],
   "source": [
    "df\n"
   ]
  },
  {
   "cell_type": "code",
   "execution_count": null,
   "metadata": {
    "colab": {
     "base_uri": "https://localhost:8080/"
    },
    "id": "MZGOQ2WVI9zL",
    "outputId": "d4c2e994-f2a4-4300-bf21-a8efb1cbc48a"
   },
   "outputs": [],
   "source": [
    "df[\"binaryClass\"].value_counts()\n"
   ]
  },
  {
   "cell_type": "code",
   "execution_count": null,
   "metadata": {
    "id": "UopwSSBaJAlf"
   },
   "outputs": [],
   "source": [
    "df[\"binaryClass\"]=df[\"binaryClass\"].map({\"P\":0,\"N\":1})\n"
   ]
  },
  {
   "cell_type": "code",
   "execution_count": null,
   "metadata": {
    "colab": {
     "base_uri": "https://localhost:8080/"
    },
    "id": "4DNsbvN6JDCU",
    "outputId": "54603318-f6be-4987-b807-6676753592fc"
   },
   "outputs": [],
   "source": [
    "df[\"pregnant\"].value_counts()\n"
   ]
  },
  {
   "cell_type": "code",
   "execution_count": null,
   "metadata": {
    "id": "HgM3ENvaJNFg"
   },
   "outputs": [],
   "source": [
    "df=df.replace({\"t\":1,\"f\":0})"
   ]
  },
  {
   "cell_type": "code",
   "execution_count": null,
   "metadata": {
    "colab": {
     "base_uri": "https://localhost:8080/",
     "height": 522
    },
    "id": "cnqtmtXCJP_8",
    "outputId": "0f593446-3322-42e5-a371-e3527a522bfa"
   },
   "outputs": [],
   "source": [
    "df\n"
   ]
  },
  {
   "cell_type": "code",
   "execution_count": null,
   "metadata": {
    "colab": {
     "base_uri": "https://localhost:8080/"
    },
    "id": "J2xfZDBGJRw3",
    "outputId": "29bff7e9-b520-4f66-d0cf-c664e40ff541"
   },
   "outputs": [],
   "source": [
    "df['sex'].isnull().sum()\n"
   ]
  },
  {
   "cell_type": "code",
   "execution_count": null,
   "metadata": {
    "colab": {
     "base_uri": "https://localhost:8080/"
    },
    "id": "n2TP3Jv4JUQS",
    "outputId": "b52e03d8-7744-45c6-e6a1-12a5f0d63014"
   },
   "outputs": [],
   "source": [
    "df[\"TBG\"].value_counts()\n"
   ]
  },
  {
   "cell_type": "code",
   "execution_count": null,
   "metadata": {
    "id": "VNcn_E3ZJWo3"
   },
   "outputs": [],
   "source": [
    "del df[\"TBG\"]\n"
   ]
  },
  {
   "cell_type": "code",
   "execution_count": null,
   "metadata": {
    "id": "zSoKoQ84JY96"
   },
   "outputs": [],
   "source": [
    "df=df.replace({\"?\":np.NAN})\n"
   ]
  },
  {
   "cell_type": "code",
   "execution_count": null,
   "metadata": {
    "colab": {
     "base_uri": "https://localhost:8080/"
    },
    "id": "VeC6UeBPJbKV",
    "outputId": "3b5d37e9-edd8-43dd-db1b-78f0ec671cd8"
   },
   "outputs": [],
   "source": [
    "df.isnull().sum()\n"
   ]
  },
  {
   "cell_type": "code",
   "execution_count": null,
   "metadata": {
    "colab": {
     "base_uri": "https://localhost:8080/"
    },
    "id": "D9yKl6xWJfzd",
    "outputId": "437cf86a-c046-4765-bfeb-3185bfa6377e"
   },
   "outputs": [],
   "source": [
    "df[\"sex\"].value_counts()\n"
   ]
  },
  {
   "cell_type": "code",
   "execution_count": null,
   "metadata": {
    "id": "HI3oDuEwJiYQ"
   },
   "outputs": [],
   "source": [
    "df=df.replace({\"F\":1,\"M\":0})\n"
   ]
  },
  {
   "cell_type": "code",
   "execution_count": null,
   "metadata": {
    "colab": {
     "base_uri": "https://localhost:8080/"
    },
    "id": "nu98iR4LJkkt",
    "outputId": "8d6e5e9f-b138-4cf5-83d6-4f1044d6e6ac"
   },
   "outputs": [],
   "source": [
    "df[\"referral source\"].value_counts()\n"
   ]
  },
  {
   "cell_type": "code",
   "execution_count": null,
   "metadata": {
    "id": "WzwkW13YJmBC"
   },
   "outputs": [],
   "source": [
    "df = df.drop([\"referral source\"], axis=1)"
   ]
  },
  {
   "cell_type": "code",
   "execution_count": null,
   "metadata": {
    "colab": {
     "base_uri": "https://localhost:8080/"
    },
    "id": "fRr1U32wJott",
    "outputId": "24918b8a-7818-41e4-aade-a4b4ac73c056"
   },
   "outputs": [],
   "source": [
    "df.info()\n"
   ]
  },
  {
   "cell_type": "code",
   "execution_count": null,
   "metadata": {
    "colab": {
     "base_uri": "https://localhost:8080/"
    },
    "id": "sTVjnCZfJqAC",
    "outputId": "9e308a46-3358-46af-b5b6-5bd8665c491e"
   },
   "outputs": [],
   "source": [
    "df[\"T3 measured\"].value_counts()\n"
   ]
  },
  {
   "cell_type": "code",
   "execution_count": null,
   "metadata": {
    "colab": {
     "base_uri": "https://localhost:8080/"
    },
    "id": "AxpsYXq_JsSm",
    "outputId": "df480c6c-25f9-4b47-beb7-167678c11c70"
   },
   "outputs": [],
   "source": [
    "df[\"TT4 measured\"].value_counts()\n"
   ]
  },
  {
   "cell_type": "code",
   "execution_count": null,
   "metadata": {
    "colab": {
     "base_uri": "https://localhost:8080/"
    },
    "id": "ZQrCKu-yJwK_",
    "outputId": "1736f0a9-0261-4af7-c20b-736339b60ea0"
   },
   "outputs": [],
   "source": [
    "df[\"FTI measured\"].value_counts()\n"
   ]
  },
  {
   "cell_type": "code",
   "execution_count": null,
   "metadata": {
    "colab": {
     "base_uri": "https://localhost:8080/"
    },
    "id": "NV3sKZl2JyYb",
    "outputId": "ef65276c-0365-42b4-d27d-775507fab3df"
   },
   "outputs": [],
   "source": [
    "df[\"TBG measured\"].value_counts()\n"
   ]
  },
  {
   "cell_type": "code",
   "execution_count": null,
   "metadata": {
    "colab": {
     "base_uri": "https://localhost:8080/"
    },
    "id": "LSIkSOPjJ0No",
    "outputId": "66bd955f-975c-49e1-be37-4b97da44f44f"
   },
   "outputs": [],
   "source": [
    "df[\"binaryClass\"].value_counts()\n"
   ]
  },
  {
   "cell_type": "code",
   "execution_count": null,
   "metadata": {
    "colab": {
     "base_uri": "https://localhost:8080/"
    },
    "id": "D3eUmEI-J2nd",
    "outputId": "47411deb-9b45-4bff-9e52-1484e9dd7a91"
   },
   "outputs": [],
   "source": [
    "df.dtypes"
   ]
  },
  {
   "cell_type": "code",
   "execution_count": null,
   "metadata": {
    "colab": {
     "base_uri": "https://localhost:8080/"
    },
    "id": "lb8SsPQ-J4qR",
    "outputId": "c85292b8-76e9-4873-9b18-c01d86a6714b"
   },
   "outputs": [],
   "source": [
    "cols = df.columns[df.dtypes.eq('object')]\n",
    "df[cols] = df[cols].apply(pd.to_numeric, errors='coerce')\n",
    "df.dtypes"
   ]
  },
  {
   "cell_type": "code",
   "execution_count": null,
   "metadata": {
    "colab": {
     "base_uri": "https://localhost:8080/"
    },
    "id": "SXE3rI9FJ7B9",
    "outputId": "34b3313f-6777-492a-88fb-33ce0b24ebef"
   },
   "outputs": [],
   "source": [
    "df.isnull().sum()"
   ]
  },
  {
   "cell_type": "code",
   "execution_count": null,
   "metadata": {
    "colab": {
     "base_uri": "https://localhost:8080/"
    },
    "id": "T9eLuCG6J-VP",
    "outputId": "6d9a1cd6-27eb-4dcb-9590-129bec48d719"
   },
   "outputs": [],
   "source": [
    "df['T4U measured'].mean()"
   ]
  },
  {
   "cell_type": "code",
   "execution_count": null,
   "metadata": {
    "id": "fdmLgumjKEIk"
   },
   "outputs": [],
   "source": [
    "df['T4U measured'].fillna(df['T4U measured'].mean(), inplace=True)"
   ]
  },
  {
   "cell_type": "code",
   "execution_count": null,
   "metadata": {
    "id": "_wQEUpPjKGZW"
   },
   "outputs": [],
   "source": [
    "df['sex'].fillna(df['sex'].mean(), inplace=True)"
   ]
  },
  {
   "cell_type": "code",
   "execution_count": null,
   "metadata": {
    "id": "TyzhlAFCKH1k"
   },
   "outputs": [],
   "source": [
    "df['age'].fillna(df['age'].mean(), inplace=True)"
   ]
  },
  {
   "cell_type": "code",
   "execution_count": null,
   "metadata": {
    "id": "KlgdXCjtKJjJ"
   },
   "outputs": [],
   "source": [
    "from sklearn.impute import SimpleImputer\n",
    "\n",
    "imputer = SimpleImputer(strategy='mean')"
   ]
  },
  {
   "cell_type": "code",
   "execution_count": null,
   "metadata": {
    "id": "b93fSJ5wKKu_"
   },
   "outputs": [],
   "source": [
    "df['TSH'] = imputer.fit_transform(df[['TSH']])"
   ]
  },
  {
   "cell_type": "code",
   "execution_count": null,
   "metadata": {
    "id": "4TEbqES0lqre"
   },
   "outputs": [],
   "source": [
    "df['T3'] = imputer.fit_transform(df[['T3']])"
   ]
  },
  {
   "cell_type": "code",
   "execution_count": null,
   "metadata": {
    "id": "lKCOkcJnltQB"
   },
   "outputs": [],
   "source": [
    "df['TT4'] = imputer.fit_transform(df[['TT4']])"
   ]
  },
  {
   "cell_type": "code",
   "execution_count": null,
   "metadata": {
    "id": "cYYmRFa8lvoV"
   },
   "outputs": [],
   "source": [
    "df['T4U'] = imputer.fit_transform(df[['T4U']])"
   ]
  },
  {
   "cell_type": "code",
   "execution_count": null,
   "metadata": {
    "id": "xM-crD6Flymo"
   },
   "outputs": [],
   "source": [
    "df['FTI'] = imputer.fit_transform(df[['FTI']])"
   ]
  },
  {
   "cell_type": "code",
   "execution_count": null,
   "metadata": {
    "colab": {
     "base_uri": "https://localhost:8080/"
    },
    "id": "3N3rLopql0Nl",
    "outputId": "9029385a-f9f1-4a8f-e74b-f256e02d6491"
   },
   "outputs": [],
   "source": [
    "df.isnull().sum()"
   ]
  },
  {
   "cell_type": "code",
   "execution_count": null,
   "metadata": {
    "colab": {
     "base_uri": "https://localhost:8080/",
     "height": 522
    },
    "id": "zhQ4KSpGl1ec",
    "outputId": "9e35ac39-d2a7-4eb1-87a1-474e0d53fe78"
   },
   "outputs": [],
   "source": [
    "df"
   ]
  },
  {
   "cell_type": "code",
   "execution_count": null,
   "metadata": {
    "colab": {
     "base_uri": "https://localhost:8080/"
    },
    "id": "UneXP07bl3u3",
    "outputId": "9cac09d2-1f75-4e82-9299-d9f98afea108"
   },
   "outputs": [],
   "source": [
    "df.columns"
   ]
  },
  {
   "cell_type": "code",
   "execution_count": null,
   "metadata": {
    "id": "nY5BftHCFLWg"
   },
   "outputs": [],
   "source": [
    "df.to_csv('prepocessed_hyperthyroid.csv')"
   ]
  },
  {
   "cell_type": "code",
   "execution_count": null,
   "metadata": {
    "id": "xCtCUjtfmkot"
   },
   "outputs": [],
   "source": [
    "x = df.drop('binaryClass', axis=1)\n",
    "y = df['binaryClass']"
   ]
  },
  {
   "cell_type": "code",
   "execution_count": null,
   "metadata": {
    "colab": {
     "base_uri": "https://localhost:8080/",
     "height": 334
    },
    "id": "Qhpvsy226YE3",
    "outputId": "d16b2e4e-2bfc-4cab-88c0-05272a1c7c1e"
   },
   "outputs": [],
   "source": [
    "df.head()"
   ]
  },
  {
   "cell_type": "code",
   "execution_count": null,
   "metadata": {
    "colab": {
     "base_uri": "https://localhost:8080/",
     "height": 334
    },
    "id": "4GLQndhKhTcj",
    "outputId": "41a3ed75-0554-405b-df40-dfe9433c8bb2"
   },
   "outputs": [],
   "source": [
    "x.head()"
   ]
  },
  {
   "cell_type": "code",
   "execution_count": null,
   "metadata": {
    "colab": {
     "base_uri": "https://localhost:8080/"
    },
    "id": "jvzuU1WZmrF6",
    "outputId": "2989f7b6-7c98-48d6-9878-fea60b39283b"
   },
   "outputs": [],
   "source": [
    "y.head()"
   ]
  },
  {
   "cell_type": "code",
   "execution_count": null,
   "metadata": {
    "id": "dGKtBMCrm2LQ"
   },
   "outputs": [],
   "source": [
    "\n",
    "x_train, x_test, y_train, y_test = train_test_split(x, y, test_size=0.2, random_state=42)"
   ]
  },
  {
   "cell_type": "code",
   "execution_count": null,
   "metadata": {
    "colab": {
     "base_uri": "https://localhost:8080/"
    },
    "id": "POq0lzi7m5vo",
    "outputId": "2d0e4bb0-a096-49fc-c224-3109828f4001"
   },
   "outputs": [],
   "source": [
    "print(x.shape, x_train.shape, x_test.shape)"
   ]
  },
  {
   "cell_type": "markdown",
   "metadata": {
    "id": "PNQlIXEgL1BA"
   },
   "source": [
    "## **Feature Selection- Dropping constant features**\n"
   ]
  },
  {
   "cell_type": "code",
   "execution_count": null,
   "metadata": {
    "id": "vjV-NASt48Jz"
   },
   "outputs": [],
   "source": [
    "x_train = x_train.drop(['FTI', 'FTI measured', 'T4U measured', 'TT4 measured','query on thyroxine','on antithyroid medication','sick', 'pregnant','thyroid surgery','I131 treatment', 'query hypothyroid', 'query hyperthyroid', 'lithium', 'goitre', 'tumor', 'hypopituitary','psych' , 'TSH measured', 'T4U', 'TBG measured'],axis=1)\n",
    "x_test = x_test.drop(['FTI', 'FTI measured', 'T4U measured', 'TT4 measured','query on thyroxine','on antithyroid medication','sick', 'pregnant','thyroid surgery','I131 treatment', 'query hypothyroid', 'query hyperthyroid', 'lithium', 'goitre', 'tumor', 'hypopituitary','psych' , 'TSH measured', 'T4U', 'TBG measured'],axis=1)"
   ]
  },
  {
   "cell_type": "code",
   "execution_count": null,
   "metadata": {
    "colab": {
     "base_uri": "https://localhost:8080/"
    },
    "id": "kIHHwcLK2LOs",
    "outputId": "f281d5ad-6f84-4916-b408-2b45e1476eb0"
   },
   "outputs": [],
   "source": [
    "x_train.columns"
   ]
  },
  {
   "cell_type": "markdown",
   "metadata": {
    "id": "N3obCAYFNWMy"
   },
   "source": [
    "## **Model Training**"
   ]
  },
  {
   "cell_type": "code",
   "execution_count": null,
   "metadata": {
    "id": "1wIYRE_KE01y"
   },
   "outputs": [],
   "source": [
    "model = LogisticRegression()"
   ]
  },
  {
   "cell_type": "code",
   "execution_count": null,
   "metadata": {
    "colab": {
     "base_uri": "https://localhost:8080/",
     "height": 214
    },
    "id": "gpWW486rcXMW",
    "outputId": "393c98a2-c5bc-4a79-b20e-b7fbfeea546a"
   },
   "outputs": [],
   "source": [
    "model.fit(x_train, y_train)"
   ]
  },
  {
   "cell_type": "code",
   "execution_count": null,
   "metadata": {
    "id": "SyvInp_9cYV8"
   },
   "outputs": [],
   "source": [
    "# accuracy on training data\n",
    "x_train_prediction = model.predict(x_train)\n",
    "training_data_accuracy = accuracy_score(x_train_prediction, y_train)"
   ]
  },
  {
   "cell_type": "code",
   "execution_count": null,
   "metadata": {
    "colab": {
     "base_uri": "https://localhost:8080/"
    },
    "id": "MH8LTzyJdgzZ",
    "outputId": "8c9cd067-9fc0-47c8-b0d3-e239557367b7"
   },
   "outputs": [],
   "source": [
    "print('Accuracy on Training data : ', training_data_accuracy)"
   ]
  },
  {
   "cell_type": "code",
   "execution_count": null,
   "metadata": {
    "id": "acAALDTQcYY7"
   },
   "outputs": [],
   "source": [
    "# accuracy on test data\n",
    "x_test_prediction = model.predict(x_test)\n",
    "test_data_accuracy = accuracy_score(x_test_prediction, y_test)"
   ]
  },
  {
   "cell_type": "code",
   "execution_count": null,
   "metadata": {
    "colab": {
     "base_uri": "https://localhost:8080/"
    },
    "id": "b91Y38UncYfo",
    "outputId": "81c8581e-901f-43b9-b687-6fa25c95b1e9"
   },
   "outputs": [],
   "source": [
    "print('Accuracy on Test data : ', test_data_accuracy)"
   ]
  },
  {
   "cell_type": "code",
   "execution_count": null,
   "metadata": {
    "colab": {
     "base_uri": "https://localhost:8080/"
    },
    "id": "pPA0amqGcYir",
    "outputId": "9f323c2e-c270-474c-cae7-12ff8f70c3fa"
   },
   "outputs": [],
   "source": [
    "input_data = (44,0,0,45,1,1.4,39)\n",
    "\n",
    "# change the input data to a numpy array\n",
    "input_data_as_numpy_array= np.asarray(input_data)\n",
    "\n",
    "# reshape the numpy array as we are predicting for only on instance\n",
    "input_data_reshaped = input_data_as_numpy_array.reshape(1,-1)\n",
    "\n",
    "prediction = model.predict(input_data_reshaped)\n",
    "print(prediction)\n",
    "\n",
    "if (prediction[0]== 0):\n",
    "  print('The Person does not have a HyperThyroid Disease')\n",
    "else:\n",
    "  print('The Person has HyperThyroid Disease')"
   ]
  },
  {
   "cell_type": "markdown",
   "metadata": {
    "id": "XipiqUW0UMAy"
   },
   "source": [
    "## **Saving the trained model**\n",
    "\n",
    "\n",
    "\n"
   ]
  },
  {
   "cell_type": "code",
   "execution_count": null,
   "metadata": {
    "id": "qVyjC2ybULCd"
   },
   "outputs": [],
   "source": [
    "import pickle"
   ]
  },
  {
   "cell_type": "code",
   "execution_count": null,
   "metadata": {
    "id": "LqbOr1b3ULNF"
   },
   "outputs": [],
   "source": [
    "filename = 'Thyroid_model.sav'\n",
    "pickle.dump(model, open(filename, 'wb'))"
   ]
  },
  {
   "cell_type": "code",
   "execution_count": null,
   "metadata": {
    "id": "aAxzE1AkULUl"
   },
   "outputs": [],
   "source": [
    "# loading the saved model\n",
    "loaded_model = pickle.load(open('Thyroid_model.sav', 'rb'))"
   ]
  },
  {
   "cell_type": "code",
   "execution_count": null,
   "metadata": {
    "colab": {
     "base_uri": "https://localhost:8080/"
    },
    "id": "KBKfvaRWUfuS",
    "outputId": "960aea33-3674-4c0a-bcc7-a526db9161bb"
   },
   "outputs": [],
   "source": [
    "for column in x_train.columns:\n",
    "  print(column)"
   ]
  },
  {
   "cell_type": "code",
   "execution_count": null,
   "metadata": {
    "colab": {
     "base_uri": "https://localhost:8080/"
    },
    "id": "V6N-IJJ1U5-6",
    "outputId": "183ae11a-b67a-4044-9615-f1c47a081eb4"
   },
   "outputs": [],
   "source": [
    "x_train.info()"
   ]
  }
 ],
 "metadata": {
  "colab": {
   "authorship_tag": "ABX9TyMFj+U6iqISOL4EmpeClB9c",
   "include_colab_link": true,
   "provenance": []
  },
  "kernelspec": {
   "display_name": "Python 3 (ipykernel)",
   "language": "python",
   "name": "python3"
  },
  "language_info": {
   "codemirror_mode": {
    "name": "ipython",
    "version": 3
   },
   "file_extension": ".py",
   "mimetype": "text/x-python",
   "name": "python",
   "nbconvert_exporter": "python",
   "pygments_lexer": "ipython3",
   "version": "3.12.4"
  }
 },
 "nbformat": 4,
 "nbformat_minor": 4
}
